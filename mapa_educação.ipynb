{
 "cells": [
  {
   "cell_type": "markdown",
   "metadata": {},
   "source": [
    "# Mapa das escolas do RS por taxa de distorção de série"
   ]
  },
  {
   "cell_type": "code",
   "execution_count": 59,
   "metadata": {},
   "outputs": [
    {
     "name": "stdout",
     "output_type": "stream",
     "text": [
      "Requirement already satisfied: folium in c:\\users\\alexa\\anaconda3\\lib\\site-packages (0.11.0)\n",
      "Requirement already satisfied: requests in c:\\users\\alexa\\anaconda3\\lib\\site-packages (from folium) (2.24.0)\n",
      "Requirement already satisfied: branca>=0.3.0 in c:\\users\\alexa\\anaconda3\\lib\\site-packages (from folium) (0.4.1)\n",
      "Requirement already satisfied: numpy in c:\\users\\alexa\\anaconda3\\lib\\site-packages (from folium) (1.18.5)\n",
      "Requirement already satisfied: jinja2>=2.9 in c:\\users\\alexa\\anaconda3\\lib\\site-packages (from folium) (2.11.2)\n",
      "Requirement already satisfied: certifi>=2017.4.17 in c:\\users\\alexa\\anaconda3\\lib\\site-packages (from requests->folium) (2020.6.20)\n",
      "Requirement already satisfied: idna<3,>=2.5 in c:\\users\\alexa\\anaconda3\\lib\\site-packages (from requests->folium) (2.10)\n",
      "Requirement already satisfied: chardet<4,>=3.0.2 in c:\\users\\alexa\\anaconda3\\lib\\site-packages (from requests->folium) (3.0.4)\n",
      "Requirement already satisfied: urllib3!=1.25.0,!=1.25.1,<1.26,>=1.21.1 in c:\\users\\alexa\\anaconda3\\lib\\site-packages (from requests->folium) (1.25.9)\n",
      "Requirement already satisfied: MarkupSafe>=0.23 in c:\\users\\alexa\\anaconda3\\lib\\site-packages (from jinja2>=2.9->folium) (1.1.1)\n"
     ]
    }
   ],
   "source": [
    "# Instalar Biblioteca Folium\n",
    "!pip install folium"
   ]
  },
  {
   "cell_type": "code",
   "execution_count": 60,
   "metadata": {},
   "outputs": [],
   "source": [
    "import pandas as pd\n",
    "%matplotlib inline\n",
    "import folium"
   ]
  },
  {
   "cell_type": "code",
   "execution_count": 61,
   "metadata": {},
   "outputs": [],
   "source": [
    "df = pd.read_csv('fee-2013-mun-taxa-de-distorcao-idade-serie-total-102524.csv', encoding = 'latin1', skiprows = 1)"
   ]
  },
  {
   "cell_type": "code",
   "execution_count": 62,
   "metadata": {},
   "outputs": [
    {
     "data": {
      "text/html": [
       "<div>\n",
       "<style scoped>\n",
       "    .dataframe tbody tr th:only-of-type {\n",
       "        vertical-align: middle;\n",
       "    }\n",
       "\n",
       "    .dataframe tbody tr th {\n",
       "        vertical-align: top;\n",
       "    }\n",
       "\n",
       "    .dataframe thead th {\n",
       "        text-align: right;\n",
       "    }\n",
       "</style>\n",
       "<table border=\"1\" class=\"dataframe\">\n",
       "  <thead>\n",
       "    <tr style=\"text-align: right;\">\n",
       "      <th></th>\n",
       "      <th>Município</th>\n",
       "      <th>ibge</th>\n",
       "      <th>latitude</th>\n",
       "      <th>longitude</th>\n",
       "      <th>/Educação/Ens...de Série/Total 2013 (-)</th>\n",
       "    </tr>\n",
       "  </thead>\n",
       "  <tbody>\n",
       "    <tr>\n",
       "      <th>0</th>\n",
       "      <td>Aceguá</td>\n",
       "      <td>4300034</td>\n",
       "      <td>-31.86076</td>\n",
       "      <td>-54.16706</td>\n",
       "      <td>25,7</td>\n",
       "    </tr>\n",
       "    <tr>\n",
       "      <th>1</th>\n",
       "      <td>Água Santa</td>\n",
       "      <td>4300059</td>\n",
       "      <td>-28.16720</td>\n",
       "      <td>-52.03100</td>\n",
       "      <td>14,7</td>\n",
       "    </tr>\n",
       "    <tr>\n",
       "      <th>2</th>\n",
       "      <td>Agudo</td>\n",
       "      <td>4300109</td>\n",
       "      <td>-29.64470</td>\n",
       "      <td>-53.25150</td>\n",
       "      <td>26,4</td>\n",
       "    </tr>\n",
       "    <tr>\n",
       "      <th>3</th>\n",
       "      <td>Ajuricaba</td>\n",
       "      <td>4300208</td>\n",
       "      <td>-28.23420</td>\n",
       "      <td>-53.77570</td>\n",
       "      <td>24,1</td>\n",
       "    </tr>\n",
       "    <tr>\n",
       "      <th>4</th>\n",
       "      <td>Alecrim</td>\n",
       "      <td>4300307</td>\n",
       "      <td>-27.65790</td>\n",
       "      <td>-54.76490</td>\n",
       "      <td>18,9</td>\n",
       "    </tr>\n",
       "  </tbody>\n",
       "</table>\n",
       "</div>"
      ],
      "text/plain": [
       "    Município     ibge  latitude  longitude  \\\n",
       "0      Aceguá  4300034 -31.86076  -54.16706   \n",
       "1  Água Santa  4300059 -28.16720  -52.03100   \n",
       "2       Agudo  4300109 -29.64470  -53.25150   \n",
       "3   Ajuricaba  4300208 -28.23420  -53.77570   \n",
       "4     Alecrim  4300307 -27.65790  -54.76490   \n",
       "\n",
       "  /Educação/Ens...de Série/Total 2013 (-)  \n",
       "0                                    25,7  \n",
       "1                                    14,7  \n",
       "2                                    26,4  \n",
       "3                                    24,1  \n",
       "4                                    18,9  "
      ]
     },
     "execution_count": 62,
     "metadata": {},
     "output_type": "execute_result"
    }
   ],
   "source": [
    "df.head()"
   ]
  },
  {
   "cell_type": "code",
   "execution_count": 63,
   "metadata": {},
   "outputs": [
    {
     "data": {
      "text/html": [
       "<div>\n",
       "<style scoped>\n",
       "    .dataframe tbody tr th:only-of-type {\n",
       "        vertical-align: middle;\n",
       "    }\n",
       "\n",
       "    .dataframe tbody tr th {\n",
       "        vertical-align: top;\n",
       "    }\n",
       "\n",
       "    .dataframe thead th {\n",
       "        text-align: right;\n",
       "    }\n",
       "</style>\n",
       "<table border=\"1\" class=\"dataframe\">\n",
       "  <thead>\n",
       "    <tr style=\"text-align: right;\">\n",
       "      <th></th>\n",
       "      <th>Município</th>\n",
       "      <th>ibge</th>\n",
       "      <th>latitude</th>\n",
       "      <th>longitude</th>\n",
       "      <th>tx_distorcao</th>\n",
       "    </tr>\n",
       "  </thead>\n",
       "  <tbody>\n",
       "    <tr>\n",
       "      <th>0</th>\n",
       "      <td>Aceguá</td>\n",
       "      <td>4300034</td>\n",
       "      <td>-31.86076</td>\n",
       "      <td>-54.16706</td>\n",
       "      <td>25,7</td>\n",
       "    </tr>\n",
       "    <tr>\n",
       "      <th>1</th>\n",
       "      <td>Água Santa</td>\n",
       "      <td>4300059</td>\n",
       "      <td>-28.16720</td>\n",
       "      <td>-52.03100</td>\n",
       "      <td>14,7</td>\n",
       "    </tr>\n",
       "    <tr>\n",
       "      <th>2</th>\n",
       "      <td>Agudo</td>\n",
       "      <td>4300109</td>\n",
       "      <td>-29.64470</td>\n",
       "      <td>-53.25150</td>\n",
       "      <td>26,4</td>\n",
       "    </tr>\n",
       "    <tr>\n",
       "      <th>3</th>\n",
       "      <td>Ajuricaba</td>\n",
       "      <td>4300208</td>\n",
       "      <td>-28.23420</td>\n",
       "      <td>-53.77570</td>\n",
       "      <td>24,1</td>\n",
       "    </tr>\n",
       "    <tr>\n",
       "      <th>4</th>\n",
       "      <td>Alecrim</td>\n",
       "      <td>4300307</td>\n",
       "      <td>-27.65790</td>\n",
       "      <td>-54.76490</td>\n",
       "      <td>18,9</td>\n",
       "    </tr>\n",
       "  </tbody>\n",
       "</table>\n",
       "</div>"
      ],
      "text/plain": [
       "    Município     ibge  latitude  longitude tx_distorcao\n",
       "0      Aceguá  4300034 -31.86076  -54.16706         25,7\n",
       "1  Água Santa  4300059 -28.16720  -52.03100         14,7\n",
       "2       Agudo  4300109 -29.64470  -53.25150         26,4\n",
       "3   Ajuricaba  4300208 -28.23420  -53.77570         24,1\n",
       "4     Alecrim  4300307 -27.65790  -54.76490         18,9"
      ]
     },
     "execution_count": 63,
     "metadata": {},
     "output_type": "execute_result"
    }
   ],
   "source": [
    "# Renomendo colunas\n",
    "df.rename(columns = {'/Educação/Ens...de Série/Total 2013 (-)' : 'tx_distorcao'}, inplace = True)\n",
    "df.head()"
   ]
  },
  {
   "cell_type": "code",
   "execution_count": 64,
   "metadata": {},
   "outputs": [
    {
     "name": "stdout",
     "output_type": "stream",
     "text": [
      "<class 'pandas.core.frame.DataFrame'>\n",
      "RangeIndex: 495 entries, 0 to 494\n",
      "Data columns (total 5 columns):\n",
      " #   Column        Non-Null Count  Dtype  \n",
      "---  ------        --------------  -----  \n",
      " 0   Município     495 non-null    object \n",
      " 1   ibge          495 non-null    int64  \n",
      " 2   latitude      495 non-null    float64\n",
      " 3   longitude     495 non-null    float64\n",
      " 4   tx_distorcao  495 non-null    object \n",
      "dtypes: float64(2), int64(1), object(2)\n",
      "memory usage: 19.5+ KB\n"
     ]
    }
   ],
   "source": [
    "df.info()"
   ]
  },
  {
   "cell_type": "code",
   "execution_count": 65,
   "metadata": {
    "scrolled": true
   },
   "outputs": [],
   "source": [
    "# Trocar vírgula por ponto na coluna tx_distorcao\n",
    "df['tx_distorcao'] = df['tx_distorcao'].str.replace(',', '.')"
   ]
  },
  {
   "cell_type": "code",
   "execution_count": 66,
   "metadata": {},
   "outputs": [
    {
     "data": {
      "text/html": [
       "<div>\n",
       "<style scoped>\n",
       "    .dataframe tbody tr th:only-of-type {\n",
       "        vertical-align: middle;\n",
       "    }\n",
       "\n",
       "    .dataframe tbody tr th {\n",
       "        vertical-align: top;\n",
       "    }\n",
       "\n",
       "    .dataframe thead th {\n",
       "        text-align: right;\n",
       "    }\n",
       "</style>\n",
       "<table border=\"1\" class=\"dataframe\">\n",
       "  <thead>\n",
       "    <tr style=\"text-align: right;\">\n",
       "      <th></th>\n",
       "      <th>Município</th>\n",
       "      <th>ibge</th>\n",
       "      <th>latitude</th>\n",
       "      <th>longitude</th>\n",
       "      <th>tx_distorcao</th>\n",
       "    </tr>\n",
       "  </thead>\n",
       "  <tbody>\n",
       "    <tr>\n",
       "      <th>0</th>\n",
       "      <td>Aceguá</td>\n",
       "      <td>4300034</td>\n",
       "      <td>-31.86076</td>\n",
       "      <td>-54.16706</td>\n",
       "      <td>25.7</td>\n",
       "    </tr>\n",
       "    <tr>\n",
       "      <th>1</th>\n",
       "      <td>Água Santa</td>\n",
       "      <td>4300059</td>\n",
       "      <td>-28.16720</td>\n",
       "      <td>-52.03100</td>\n",
       "      <td>14.7</td>\n",
       "    </tr>\n",
       "    <tr>\n",
       "      <th>2</th>\n",
       "      <td>Agudo</td>\n",
       "      <td>4300109</td>\n",
       "      <td>-29.64470</td>\n",
       "      <td>-53.25150</td>\n",
       "      <td>26.4</td>\n",
       "    </tr>\n",
       "    <tr>\n",
       "      <th>3</th>\n",
       "      <td>Ajuricaba</td>\n",
       "      <td>4300208</td>\n",
       "      <td>-28.23420</td>\n",
       "      <td>-53.77570</td>\n",
       "      <td>24.1</td>\n",
       "    </tr>\n",
       "    <tr>\n",
       "      <th>4</th>\n",
       "      <td>Alecrim</td>\n",
       "      <td>4300307</td>\n",
       "      <td>-27.65790</td>\n",
       "      <td>-54.76490</td>\n",
       "      <td>18.9</td>\n",
       "    </tr>\n",
       "  </tbody>\n",
       "</table>\n",
       "</div>"
      ],
      "text/plain": [
       "    Município     ibge  latitude  longitude tx_distorcao\n",
       "0      Aceguá  4300034 -31.86076  -54.16706         25.7\n",
       "1  Água Santa  4300059 -28.16720  -52.03100         14.7\n",
       "2       Agudo  4300109 -29.64470  -53.25150         26.4\n",
       "3   Ajuricaba  4300208 -28.23420  -53.77570         24.1\n",
       "4     Alecrim  4300307 -27.65790  -54.76490         18.9"
      ]
     },
     "execution_count": 66,
     "metadata": {},
     "output_type": "execute_result"
    }
   ],
   "source": [
    "df.head()"
   ]
  },
  {
   "cell_type": "code",
   "execution_count": 67,
   "metadata": {},
   "outputs": [
    {
     "name": "stdout",
     "output_type": "stream",
     "text": [
      "<class 'pandas.core.frame.DataFrame'>\n",
      "RangeIndex: 495 entries, 0 to 494\n",
      "Data columns (total 5 columns):\n",
      " #   Column        Non-Null Count  Dtype  \n",
      "---  ------        --------------  -----  \n",
      " 0   Município     495 non-null    object \n",
      " 1   ibge          495 non-null    int64  \n",
      " 2   latitude      495 non-null    float64\n",
      " 3   longitude     495 non-null    float64\n",
      " 4   tx_distorcao  495 non-null    float64\n",
      "dtypes: float64(3), int64(1), object(1)\n",
      "memory usage: 19.5+ KB\n"
     ]
    }
   ],
   "source": [
    "#Conversão de string para float\n",
    "df['tx_distorcao'] = df['tx_distorcao'].astype(float)\n",
    "df.info()"
   ]
  },
  {
   "cell_type": "code",
   "execution_count": 68,
   "metadata": {},
   "outputs": [
    {
     "data": {
      "text/html": [
       "<div>\n",
       "<style scoped>\n",
       "    .dataframe tbody tr th:only-of-type {\n",
       "        vertical-align: middle;\n",
       "    }\n",
       "\n",
       "    .dataframe tbody tr th {\n",
       "        vertical-align: top;\n",
       "    }\n",
       "\n",
       "    .dataframe thead th {\n",
       "        text-align: right;\n",
       "    }\n",
       "</style>\n",
       "<table border=\"1\" class=\"dataframe\">\n",
       "  <thead>\n",
       "    <tr style=\"text-align: right;\">\n",
       "      <th></th>\n",
       "      <th>Município</th>\n",
       "      <th>ibge</th>\n",
       "      <th>latitude</th>\n",
       "      <th>longitude</th>\n",
       "      <th>tx_distorcao</th>\n",
       "    </tr>\n",
       "  </thead>\n",
       "  <tbody>\n",
       "    <tr>\n",
       "      <th>490</th>\n",
       "      <td>Vista Alegre do Prata</td>\n",
       "      <td>4323606</td>\n",
       "      <td>-28.8052</td>\n",
       "      <td>-51.7946</td>\n",
       "      <td>2.6</td>\n",
       "    </tr>\n",
       "    <tr>\n",
       "      <th>375</th>\n",
       "      <td>Santo Antônio do Palma</td>\n",
       "      <td>4317558</td>\n",
       "      <td>-28.4956</td>\n",
       "      <td>-52.0267</td>\n",
       "      <td>4.3</td>\n",
       "    </tr>\n",
       "    <tr>\n",
       "      <th>28</th>\n",
       "      <td>Áurea</td>\n",
       "      <td>4301552</td>\n",
       "      <td>-27.6936</td>\n",
       "      <td>-52.0505</td>\n",
       "      <td>5.8</td>\n",
       "    </tr>\n",
       "    <tr>\n",
       "      <th>268</th>\n",
       "      <td>Nicolau Vergueiro</td>\n",
       "      <td>4312674</td>\n",
       "      <td>-28.5298</td>\n",
       "      <td>-52.4676</td>\n",
       "      <td>7.0</td>\n",
       "    </tr>\n",
       "    <tr>\n",
       "      <th>128</th>\n",
       "      <td>Derrubadas</td>\n",
       "      <td>4306320</td>\n",
       "      <td>-27.2642</td>\n",
       "      <td>-53.8645</td>\n",
       "      <td>7.4</td>\n",
       "    </tr>\n",
       "    <tr>\n",
       "      <th>119</th>\n",
       "      <td>Cotiporã</td>\n",
       "      <td>4305959</td>\n",
       "      <td>-28.9891</td>\n",
       "      <td>-51.6971</td>\n",
       "      <td>7.5</td>\n",
       "    </tr>\n",
       "    <tr>\n",
       "      <th>68</th>\n",
       "      <td>Campestre da Serra</td>\n",
       "      <td>4303673</td>\n",
       "      <td>-28.7926</td>\n",
       "      <td>-51.0941</td>\n",
       "      <td>7.6</td>\n",
       "    </tr>\n",
       "    <tr>\n",
       "      <th>476</th>\n",
       "      <td>Vanini</td>\n",
       "      <td>4322558</td>\n",
       "      <td>-28.4758</td>\n",
       "      <td>-51.8447</td>\n",
       "      <td>7.8</td>\n",
       "    </tr>\n",
       "    <tr>\n",
       "      <th>236</th>\n",
       "      <td>Linha Nova</td>\n",
       "      <td>4311643</td>\n",
       "      <td>-29.4679</td>\n",
       "      <td>-51.2003</td>\n",
       "      <td>8.0</td>\n",
       "    </tr>\n",
       "    <tr>\n",
       "      <th>392</th>\n",
       "      <td>São José do Inhacorá</td>\n",
       "      <td>4318499</td>\n",
       "      <td>-27.7251</td>\n",
       "      <td>-54.1275</td>\n",
       "      <td>8.0</td>\n",
       "    </tr>\n",
       "  </tbody>\n",
       "</table>\n",
       "</div>"
      ],
      "text/plain": [
       "                  Município     ibge  latitude  longitude  tx_distorcao\n",
       "490   Vista Alegre do Prata  4323606  -28.8052   -51.7946           2.6\n",
       "375  Santo Antônio do Palma  4317558  -28.4956   -52.0267           4.3\n",
       "28                    Áurea  4301552  -27.6936   -52.0505           5.8\n",
       "268       Nicolau Vergueiro  4312674  -28.5298   -52.4676           7.0\n",
       "128              Derrubadas  4306320  -27.2642   -53.8645           7.4\n",
       "119                Cotiporã  4305959  -28.9891   -51.6971           7.5\n",
       "68       Campestre da Serra  4303673  -28.7926   -51.0941           7.6\n",
       "476                  Vanini  4322558  -28.4758   -51.8447           7.8\n",
       "236              Linha Nova  4311643  -29.4679   -51.2003           8.0\n",
       "392    São José do Inhacorá  4318499  -27.7251   -54.1275           8.0"
      ]
     },
     "execution_count": 68,
     "metadata": {},
     "output_type": "execute_result"
    }
   ],
   "source": [
    "# 10 municípios com menor taxa de distorção\n",
    "df.nsmallest(10, 'tx_distorcao')"
   ]
  },
  {
   "cell_type": "code",
   "execution_count": 69,
   "metadata": {},
   "outputs": [
    {
     "data": {
      "text/html": [
       "<div>\n",
       "<style scoped>\n",
       "    .dataframe tbody tr th:only-of-type {\n",
       "        vertical-align: middle;\n",
       "    }\n",
       "\n",
       "    .dataframe tbody tr th {\n",
       "        vertical-align: top;\n",
       "    }\n",
       "\n",
       "    .dataframe thead th {\n",
       "        text-align: right;\n",
       "    }\n",
       "</style>\n",
       "<table border=\"1\" class=\"dataframe\">\n",
       "  <thead>\n",
       "    <tr style=\"text-align: right;\">\n",
       "      <th></th>\n",
       "      <th>Município</th>\n",
       "      <th>ibge</th>\n",
       "      <th>latitude</th>\n",
       "      <th>longitude</th>\n",
       "      <th>tx_distorcao</th>\n",
       "    </tr>\n",
       "  </thead>\n",
       "  <tbody>\n",
       "    <tr>\n",
       "      <th>307</th>\n",
       "      <td>Pedras Altas</td>\n",
       "      <td>4314175</td>\n",
       "      <td>-31.7217</td>\n",
       "      <td>-53.5838</td>\n",
       "      <td>56.0</td>\n",
       "    </tr>\n",
       "    <tr>\n",
       "      <th>316</th>\n",
       "      <td>Pinheiro Machado</td>\n",
       "      <td>4314506</td>\n",
       "      <td>-31.5794</td>\n",
       "      <td>-53.3798</td>\n",
       "      <td>53.9</td>\n",
       "    </tr>\n",
       "    <tr>\n",
       "      <th>17</th>\n",
       "      <td>Arambaré</td>\n",
       "      <td>4300851</td>\n",
       "      <td>-30.9093</td>\n",
       "      <td>-51.5046</td>\n",
       "      <td>52.8</td>\n",
       "    </tr>\n",
       "    <tr>\n",
       "      <th>140</th>\n",
       "      <td>Eldorado do Sul</td>\n",
       "      <td>4306767</td>\n",
       "      <td>-30.0847</td>\n",
       "      <td>-51.6187</td>\n",
       "      <td>51.9</td>\n",
       "    </tr>\n",
       "    <tr>\n",
       "      <th>35</th>\n",
       "      <td>Barra do Quaraí</td>\n",
       "      <td>4301875</td>\n",
       "      <td>-30.2029</td>\n",
       "      <td>-57.5497</td>\n",
       "      <td>51.5</td>\n",
       "    </tr>\n",
       "    <tr>\n",
       "      <th>393</th>\n",
       "      <td>São José do Norte</td>\n",
       "      <td>4318507</td>\n",
       "      <td>-32.0151</td>\n",
       "      <td>-52.0331</td>\n",
       "      <td>49.4</td>\n",
       "    </tr>\n",
       "    <tr>\n",
       "      <th>413</th>\n",
       "      <td>São Valério do Sul</td>\n",
       "      <td>4319737</td>\n",
       "      <td>-27.7906</td>\n",
       "      <td>-53.9368</td>\n",
       "      <td>49.2</td>\n",
       "    </tr>\n",
       "    <tr>\n",
       "      <th>193</th>\n",
       "      <td>Hulha Negra</td>\n",
       "      <td>4309654</td>\n",
       "      <td>-31.4067</td>\n",
       "      <td>-53.8667</td>\n",
       "      <td>49.0</td>\n",
       "    </tr>\n",
       "    <tr>\n",
       "      <th>106</th>\n",
       "      <td>Chuí</td>\n",
       "      <td>4305439</td>\n",
       "      <td>-33.6866</td>\n",
       "      <td>-53.4594</td>\n",
       "      <td>48.6</td>\n",
       "    </tr>\n",
       "    <tr>\n",
       "      <th>233</th>\n",
       "      <td>Lavras do Sul</td>\n",
       "      <td>4311502</td>\n",
       "      <td>-30.8071</td>\n",
       "      <td>-53.8931</td>\n",
       "      <td>47.7</td>\n",
       "    </tr>\n",
       "  </tbody>\n",
       "</table>\n",
       "</div>"
      ],
      "text/plain": [
       "              Município     ibge  latitude  longitude  tx_distorcao\n",
       "307        Pedras Altas  4314175  -31.7217   -53.5838          56.0\n",
       "316    Pinheiro Machado  4314506  -31.5794   -53.3798          53.9\n",
       "17             Arambaré  4300851  -30.9093   -51.5046          52.8\n",
       "140     Eldorado do Sul  4306767  -30.0847   -51.6187          51.9\n",
       "35      Barra do Quaraí  4301875  -30.2029   -57.5497          51.5\n",
       "393   São José do Norte  4318507  -32.0151   -52.0331          49.4\n",
       "413  São Valério do Sul  4319737  -27.7906   -53.9368          49.2\n",
       "193         Hulha Negra  4309654  -31.4067   -53.8667          49.0\n",
       "106                Chuí  4305439  -33.6866   -53.4594          48.6\n",
       "233       Lavras do Sul  4311502  -30.8071   -53.8931          47.7"
      ]
     },
     "execution_count": 69,
     "metadata": {},
     "output_type": "execute_result"
    }
   ],
   "source": [
    "df.nlargest(10, 'tx_distorcao')"
   ]
  },
  {
   "cell_type": "code",
   "execution_count": 70,
   "metadata": {},
   "outputs": [
    {
     "data": {
      "text/plain": [
       "<matplotlib.axes._subplots.AxesSubplot at 0x1ea11f21fd0>"
      ]
     },
     "execution_count": 70,
     "metadata": {},
     "output_type": "execute_result"
    },
    {
     "data": {
      "image/png": "[encoded data removed]",
      "text/plain": [
       "<Figure size 432x288 with 1 Axes>"
      ]
     },
     "metadata": {
      "needs_background": "light"
     },
     "output_type": "display_data"
    }
   ],
   "source": [
    "# Plotando histograma\n",
    "df['tx_distorcao'].plot.hist(bins = 100)"
   ]
  },
  {
   "cell_type": "code",
   "execution_count": 71,
   "metadata": {},
   "outputs": [
    {
     "data": {
      "text/plain": [
       "Município       17\n",
       "ibge            17\n",
       "latitude        17\n",
       "longitude       17\n",
       "tx_distorcao    17\n",
       "dtype: int64"
      ]
     },
     "execution_count": 71,
     "metadata": {},
     "output_type": "execute_result"
    }
   ],
   "source": [
    "# Quantidade de municípios com tx_distorcao menor ou igual a 10\n",
    "df[df['tx_distorcao'] <= 10].count()"
   ]
  },
  {
   "cell_type": "code",
   "execution_count": 72,
   "metadata": {},
   "outputs": [
    {
     "data": {
      "text/plain": [
       "Município       17\n",
       "ibge            17\n",
       "latitude        17\n",
       "longitude       17\n",
       "tx_distorcao    17\n",
       "dtype: int64"
      ]
     },
     "execution_count": 72,
     "metadata": {},
     "output_type": "execute_result"
    }
   ],
   "source": [
    "df[df['tx_distorcao'] >= 45].count()"
   ]
  },
  {
   "cell_type": "code",
   "execution_count": 73,
   "metadata": {},
   "outputs": [
    {
     "data": {
      "text/html": [
       "<div style=\"width:100%;\"><div style=\"position:relative;width:100%;height:0;padding-bottom:60%;\"><span style=\"color:#565656\">Make this Notebook Trusted to load map: File -> Trust Notebook</span><iframe src=\"about:blank\" style=\"position:absolute;width:100%;height:100%;left:0;top:0;border:none !important;\" data-html=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 onload=\"this.contentDocument.open();this.contentDocument.write(atob(this.getAttribute('data-html')));this.contentDocument.close();\" allowfullscreen webkitallowfullscreen mozallowfullscreen></iframe></div></div>"
      ],
      "text/plain": [
       "<folium.folium.Map at 0x1ea12076f40>"
      ]
     },
     "execution_count": 73,
     "metadata": {},
     "output_type": "execute_result"
    }
   ],
   "source": [
    "# Usando o Folium\n",
    "# Criar um mapa, com base em uma coordenada central\n",
    "brasil = folium.Map(\n",
    "    location = [-19.9026615, -44.104138],\n",
    "    zoom_start = 12\n",
    ")\n",
    "#mostrando o mapa\n",
    "brasil"
   ]
  },
  {
   "cell_type": "code",
   "execution_count": 79,
   "metadata": {},
   "outputs": [
    {
     "data": {
      "text/html": [
       "<div style=\"width:100%;\"><div style=\"position:relative;width:100%;height:0;padding-bottom:60%;\"><span style=\"color:#565656\">Make this Notebook Trusted to load map: File -> Trust Notebook</span><iframe src=\"about:blank\" style=\"position:absolute;width:100%;height:100%;left:0;top:0;border:none !important;\" data-html=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 onload=\"this.contentDocument.open();this.contentDocument.write(atob(this.getAttribute('data-html')));this.contentDocument.close();\" allowfullscreen webkitallowfullscreen mozallowfullscreen></iframe></div></div>"
      ],
      "text/plain": [
       "<folium.folium.Map at 0x1ea120a78e0>"
      ]
     },
     "execution_count": 79,
     "metadata": {},
     "output_type": "execute_result"
    }
   ],
   "source": [
    "# Vamos criar o mapa do RS\n",
    "rs = folium.Map(\n",
    "    location = [-30.5, -52],\n",
    "    zoom_start = 6\n",
    ")\n",
    "rs"
   ]
  },
  {
   "cell_type": "code",
   "execution_count": 83,
   "metadata": {},
   "outputs": [
    {
     "data": {
      "text/html": [
       "<div style=\"width:100%;\"><div style=\"position:relative;width:100%;height:0;padding-bottom:60%;\"><span style=\"color:#565656\">Make this Notebook Trusted to load map: File -> Trust Notebook</span><iframe src=\"about:blank\" style=\"position:absolute;width:100%;height:100%;left:0;top:0;border:none !important;\" data-html=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 onload=\"this.contentDocument.open();this.contentDocument.write(atob(this.getAttribute('data-html')));this.contentDocument.close();\" allowfullscreen webkitallowfullscreen mozallowfullscreen></iframe></div></div>"
      ],
      "text/plain": [
       "<folium.folium.Map at 0x1ea120a78e0>"
      ]
     },
     "execution_count": 83,
     "metadata": {},
     "output_type": "execute_result"
    }
   ],
   "source": [
    "# Percorrer o dataframe com base nas melhores escolas\n",
    "# Usando for e iterrows\n",
    "for indice, municipio in df[df['tx_distorcao'] <= 10].iterrows():\n",
    "    folium.Marker(\n",
    "        location = [municipio['latitude'], municipio['longitude']],\n",
    "        popup = municipio['Município'], \n",
    "        icon = folium.map.Icon(color = 'green')\n",
    "     ).add_to(rs)\n",
    "rs\n",
    "    "
   ]
  },
  {
   "cell_type": "code",
   "execution_count": 84,
   "metadata": {},
   "outputs": [
    {
     "data": {
      "text/html": [
       "<div style=\"width:100%;\"><div style=\"position:relative;width:100%;height:0;padding-bottom:60%;\"><span style=\"color:#565656\">Make this Notebook Trusted to load map: File -> Trust Notebook</span><iframe src=\"about:blank\" style=\"position:absolute;width:100%;height:100%;left:0;top:0;border:none !important;\" data-html=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 onload=\"this.contentDocument.open();this.contentDocument.write(atob(this.getAttribute('data-html')));this.contentDocument.close();\" allowfullscreen webkitallowfullscreen mozallowfullscreen></iframe></div></div>"
      ],
      "text/plain": [
       "<folium.folium.Map at 0x1ea120a78e0>"
      ]
     },
     "execution_count": 84,
     "metadata": {},
     "output_type": "execute_result"
    }
   ],
   "source": [
    "for indice, municipio in df[df['tx_distorcao'] >= 45].iterrows():\n",
    "    folium.Marker(\n",
    "        location = [municipio['latitude'], municipio['longitude']],\n",
    "        popup = municipio['Município'], \n",
    "        icon = folium.map.Icon(color = 'red')\n",
    "     ).add_to(rs)\n",
    "rs"
   ]
  },
  {
   "cell_type": "code",
   "execution_count": 85,
   "metadata": {},
   "outputs": [
    {
     "data": {
      "text/plain": [
       "325    32.3\n",
       "Name: tx_distorcao, dtype: float64"
      ]
     },
     "execution_count": 85,
     "metadata": {},
     "output_type": "execute_result"
    }
   ],
   "source": [
    "# Taxa de distorção de Porto Alegre\n",
    "df[df['Município'] == 'Porto Alegre']['tx_distorcao']"
   ]
  },
  {
   "cell_type": "code",
   "execution_count": null,
   "metadata": {},
   "outputs": [],
   "source": []
  }
 ],
 "metadata": {
  "kernelspec": {
   "display_name": "Python 3",
   "language": "python",
   "name": "python3"
  },
  "language_info": {
   "codemirror_mode": {
    "name": "ipython",
    "version": 3
   },
   "file_extension": ".py",
   "mimetype": "text/x-python",
   "name": "python",
   "nbconvert_exporter": "python",
   "pygments_lexer": "ipython3",
   "version": "3.8.3"
  }
 },
 "nbformat": 4,
 "nbformat_minor": 4
}
